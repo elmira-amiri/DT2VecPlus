{
 "cells": [
  {
   "cell_type": "code",
   "execution_count": null,
   "metadata": {},
   "outputs": [],
   "source": [
    "import csv\n",
    "import os\n",
    "import json\n",
    "import gensim\n",
    "import pickle\n",
    "import numpy as np\n",
    "import pandas as pd\n",
    "from pprint import pprint\n",
    "from sklearn.preprocessing import MinMaxScaler\n",
    "\n",
    "import networkx as nx\n",
    "import networkx\n",
    "import community\n",
    "from yellowbrick.cluster import KElbowVisualizer\n",
    "from community import community_louvain\n",
    "from sknetwork.clustering import Louvain, BiLouvain, modularity, bimodularity\n",
    "import matplotlib.pyplot as plt\n"
   ]
  },
  {
   "cell_type": "code",
   "execution_count": null,
   "metadata": {},
   "outputs": [],
   "source": [
    "MAINDIR = ''"
   ]
  },
  {
   "cell_type": "markdown",
   "metadata": {},
   "source": [
    "## Mapping \n",
    "MESHid (CTD) --> DrugBank --> ChEMBL (access to SMILE)"
   ]
  },
  {
   "cell_type": "code",
   "execution_count": null,
   "metadata": {},
   "outputs": [],
   "source": [
    "## Mapping Drugbank Id to ChemicalID\n",
    "## Chemical vocabulary: http://ctdbase.org/downloads/\n",
    "chem_DrugBank_ID = pd.read_csv(\"CTD_chemicals.csv\").dropna()\n",
    "DrugBankID2ChemicalID = pd.Series(chem_DrugBank_ID['ChemicalID'].values, index=chem_DrugBank_ID['DrugBankIDs']).to_dict()\n",
    "ChemicalID2DrugBankID = dict((y,x) for x,y in DrugBankID2ChemicalID.items())\n",
    "print(len(DrugBankID2ChemicalID))"
   ]
  },
  {
   "cell_type": "code",
   "execution_count": null,
   "metadata": {},
   "outputs": [],
   "source": [
    "ChEMBL = pd.read_csv(\"drugbank.csv\", sep='\\t')\n",
    "ChEMBL_DrugbankID = ChEMBL[['DrugbankID','CHEMBL']].dropna()\n",
    "ChEMBL2DrugbankID_temp = pd.Series(ChEMBL_DrugbankID['DrugbankID'].values, index=ChEMBL_DrugbankID['CHEMBL']).to_dict()\n",
    "\n",
    "new_ChEMBL2DrugbankID = {}\n",
    "for key, value in ChEMBL2DrugbankID_temp.items():\n",
    "    if '|' in key:\n",
    "        for new_key in key.split('|'):\n",
    "            new_ChEMBL2DrugbankID[new_key] = value\n",
    "    else:\n",
    "        new_ChEMBL2DrugbankID[key] = value"
   ]
  },
  {
   "cell_type": "code",
   "execution_count": null,
   "metadata": {},
   "outputs": [],
   "source": [
    "## https://pubchem.ncbi.nlm.nih.gov/idexchange/idexchange.cgi\n",
    "Chembl_DB_ID = pd.read_csv(\"Chembl_DB_ID.csv\", sep='\\t')\n",
    "Chembl_DB_ID = Chembl_DB_ID.dropna()\n",
    "ChEMBL2DrugbankID_new = pd.Series(Chembl_DB_ID['DB_ID'].values, index=Chembl_DB_ID['CHEMBL_ID']).to_dict()"
   ]
  },
  {
   "cell_type": "code",
   "execution_count": null,
   "metadata": {},
   "outputs": [],
   "source": [
    "## merging 2 diffrenet source of mapping  \n",
    "ChEMBL2DrugbankID = {**new_ChEMBL2DrugbankID, **ChEMBL2DrugbankID_new}\n",
    "DrugbankID2ChEMBL = dict((y,x) for x,y in ChEMBL2DrugbankID.items())\n",
    "DrugbankID2ChEMBL"
   ]
  },
  {
   "cell_type": "code",
   "execution_count": null,
   "metadata": {},
   "outputs": [],
   "source": [
    "# protein seq\n",
    "target_seq = pd.read_csv('uniprot-yourlist.csv')\n",
    "target_seq = target_seq.dropna(subset=['Sequence'])\n",
    "target_seq['Target'] = pd.to_numeric(target_seq['Target'], errors='ignore')"
   ]
  },
  {
   "cell_type": "code",
   "execution_count": null,
   "metadata": {},
   "outputs": [],
   "source": [
    "list_phase4 = list(pd.read_csv('phase_4_drug.csv', index_col=0)['Molecule ChEMBL ID'])"
   ]
  },
  {
   "cell_type": "markdown",
   "metadata": {},
   "source": [
    "## 1- Drug-Target interactions"
   ]
  },
  {
   "cell_type": "code",
   "execution_count": null,
   "metadata": {},
   "outputs": [],
   "source": [
    "## Resding DTI from ctd website and select Homo sapiens rows\n",
    "chem_gene = pd.read_csv(\"CTD_chem_gene_ixns_new.csv\").rename(columns={'ChemicalID':'from','GeneID':'to'})\n",
    "chem_gene_homo = chem_gene[chem_gene['OrganismID']==9606.0]\n",
    "chem_gene_homo.head(5)"
   ]
  },
  {
   "cell_type": "code",
   "execution_count": null,
   "metadata": {},
   "outputs": [],
   "source": [
    "chem_gene_homo"
   ]
  },
  {
   "cell_type": "code",
   "execution_count": null,
   "metadata": {},
   "outputs": [],
   "source": [
    "df_interaction = chem_gene_homo[['from','to','InteractionActions']].drop_duplicates()\n",
    "df_interaction['Type_Interaction']= 'DTI'\n",
    "df_interaction"
   ]
  },
  {
   "cell_type": "code",
   "execution_count": null,
   "metadata": {},
   "outputs": [],
   "source": [
    "# mapping MESHid(CTD)--> DrugBankID--> ChemicalID\n",
    "df_interaction['Chembl']= df_interaction['from'].map(ChemicalID2DrugBankID).map(DrugbankID2ChEMBL)\n",
    "df_interaction= df_interaction.dropna(subset=['Chembl'])\n",
    "df_interaction"
   ]
  },
  {
   "cell_type": "code",
   "execution_count": null,
   "metadata": {},
   "outputs": [],
   "source": [
    "# ChemicalID --> SMILES \n",
    "smile = pd.read_csv(f'{MAINDIR}/Chmbel2smile.csv', header=None)\n",
    "ChEMBL2Smiles = pd.Series(smile[0].values, index=smile[1]).to_dict()\n",
    "df_interaction['smiles'] = df_interaction['Chembl'].map(ChEMBL2Smiles)\n",
    "df_interaction.head()"
   ]
  },
  {
   "cell_type": "code",
   "execution_count": null,
   "metadata": {},
   "outputs": [],
   "source": [
    "## remove drug that we do not have smile id\n",
    "no_smileId = list(set(df_interaction['Chembl'])-set(smile[1]))\n",
    "no_smileId"
   ]
  },
  {
   "cell_type": "code",
   "execution_count": null,
   "metadata": {},
   "outputs": [],
   "source": [
    "df_interactions = df_interaction[~df_interaction['Chembl'].isin(no_smileId)]\n",
    "df_interactions.head()"
   ]
  },
  {
   "cell_type": "markdown",
   "metadata": {},
   "source": [
    "### Final DTI\n"
   ]
  },
  {
   "cell_type": "code",
   "execution_count": null,
   "metadata": {},
   "outputs": [],
   "source": [
    "df_interactions.to_csv(f'{MAINDIR}/df_interactions.csv')\n",
    "with open(f'{MAINDIR}/df_interactions.pkl', 'wb') as handle:\n",
    "    pickle.dump(df_interactions, handle)"
   ]
  },
  {
   "cell_type": "code",
   "execution_count": null,
   "metadata": {},
   "outputs": [],
   "source": [
    "num_drug = len(set(df_interactions['from']))\n",
    "num_target = len(set(df_interactions['to']))\n",
    "print (f'number of taregt: {num_target}')\n",
    "print (f'number of drug: {num_drug}')\n",
    "print (f'number of interactions: {len(df_interactions)}')\n",
    "print ('\\n\\n type of interactions:')\n",
    "df_interactions['InteractionActions'].value_counts().head()"
   ]
  },
  {
   "cell_type": "code",
   "execution_count": null,
   "metadata": {
    "scrolled": false
   },
   "outputs": [],
   "source": [
    "pd.DataFrame(df_interactions['InteractionActions'].value_counts()).to_csv('type_of_DTI.csv')\n",
    "type_DTI = pd.read_csv('type_DTI.csv')\n",
    "\n",
    "type_DTI_list = list(set(list(type_DTI['S1'])+ list(type_DTI['S2'])+ list(type_DTI['S3'])+ list(type_DTI['S4'])+list(type_DTI['S5'])+ list(type_DTI['S6'])))[1:]\n",
    "type2num = pd.Series(0, type_DTI_list).to_dict()\n",
    "print(f'Number of unique type of interactions: {len(type_DTI_list)}')\n",
    "\n",
    "# Counting the number of each interactions\n",
    "dic_type = {}\n",
    "\n",
    "for T in type_DTI_list:\n",
    "    count = 0\n",
    "    for col in  range(1,7): \n",
    "        count_tmp = type_DTI[type_DTI[f'S{col}']== T ]['num'].sum()\n",
    "        count = count + count_tmp\n",
    "    dic_type[T] = count\n",
    "df_sum_type = pd.DataFrame(dic_type.items()).sort_values(by=1, ascending=False)\n",
    "df_sum_type.head(10)"
   ]
  },
  {
   "cell_type": "markdown",
   "metadata": {},
   "source": [
    "### Selected interactions"
   ]
  },
  {
   "cell_type": "code",
   "execution_count": null,
   "metadata": {},
   "outputs": [],
   "source": [
    "selected_type = ['increases^expression','decreases^expression','decreases^reaction','increases^reaction', 'increases^activity','decreases^activity']\n",
    "df_sum_type[df_sum_type[0].isin(selected_type)]"
   ]
  },
  {
   "cell_type": "code",
   "execution_count": null,
   "metadata": {},
   "outputs": [],
   "source": [
    "df_interactions_sepType = pd.read_csv(f'{MAINDIR}/df_interactions_sepType.csv').drop(columns=['Unnamed: 6'])\n",
    "\n",
    "selected_DTI = df_interactions_sepType[df_interactions_sepType['S1'].isin(selected_type)]\n",
    "for col in range(2,7):\n",
    "    selected_DTI_tmp = df_interactions_sepType[df_interactions_sepType[f'S{col}'].isin(selected_type)]\n",
    "    selected_DTI = pd.concat([selected_DTI, selected_DTI_tmp])\n",
    "    selected_DTI = selected_DTI.drop(columns=['Unnamed: 0'])\n",
    "selected_DTI.head()"
   ]
  },
  {
   "cell_type": "code",
   "execution_count": null,
   "metadata": {},
   "outputs": [],
   "source": [
    "# saving protein IDs\n",
    "pd.DataFrame(set(selected_DTI['to'])).to_csv(f'{MAINDIR}/protein_EntrezID.csv')\n",
    "num_pro = len(set(selected_DTI['to']))\n",
    "print(f'number of proteins: {num_pro}')\n",
    "\n",
    "# read protein seq from uniport save file\n",
    "uniport_seq = pd.read_csv(f'{MAINDIR}/uniprot-ids.csv')\n",
    "uniport_seq.head(3)"
   ]
  },
  {
   "cell_type": "code",
   "execution_count": null,
   "metadata": {},
   "outputs": [],
   "source": [
    "id2Sequence = pd.Series(uniport_seq['Sequence'].values, index=uniport_seq['id']).to_dict()\n",
    "print(f'Number of proteins has sequence: {len(id2Sequence)}')\n",
    "list_proteins = list(map(int, list(id2Sequence.keys())))\n",
    "selected_DTI_final = selected_DTI[selected_DTI['to'].isin(list_proteins)]\n",
    "\n",
    "selected_uniport_seq = uniport_seq[uniport_seq['id'].isin(list_proteins)].drop_duplicates(subset=['id'])\n",
    "selected_uniport_seq.to_csv(f'{MAINDIR}/selected_uniport_seq.csv')"
   ]
  },
  {
   "cell_type": "code",
   "execution_count": null,
   "metadata": {},
   "outputs": [],
   "source": [
    "# selecting phase 4 drugs\n",
    "selected_DTI_final = selected_DTI_final[selected_DTI_final['Chembl'].isin(list_phase4)]\n",
    "\n",
    "# select targets that we have seq\n",
    "selected_DTI_final = selected_DTI_final[selected_DTI_final['to'].isin(list(target_seq['Target']))]\n",
    "selected_DTI_final"
   ]
  },
  {
   "cell_type": "code",
   "execution_count": null,
   "metadata": {},
   "outputs": [],
   "source": [
    "count_drug_inter = pd.DataFrame(selected_DTI_final['from'].value_counts())\n",
    "drug_with_less_than_100target = list(count_drug_inter[(count_drug_inter['from']<=100)].index)\n",
    "drug_with_less_than_100target"
   ]
  },
  {
   "cell_type": "code",
   "execution_count": null,
   "metadata": {},
   "outputs": [],
   "source": [
    "selected_DTI_final = selected_DTI_final[selected_DTI_final['from'].isin(drug_with_less_than_100target)]\n",
    "selected_DTI_final['to'].value_counts()"
   ]
  },
  {
   "cell_type": "code",
   "execution_count": null,
   "metadata": {},
   "outputs": [],
   "source": [
    "selected_DTI_final.to_csv(f'{MAINDIR}/selected_DTI.csv')\n",
    "num_drug = len(set(selected_DTI_final['from']))\n",
    "num_target = len(set(selected_DTI_final['to']))\n",
    "print (f'number of taregt: {num_target}')\n",
    "print (f'number of drug: {num_drug}')\n",
    "print (f'number of interactions: {len(selected_DTI_final)}')\n",
    "print (f'number of interaction type: {len(selected_type)}')\n",
    "selected_type"
   ]
  },
  {
   "cell_type": "markdown",
   "metadata": {},
   "source": [
    "#### Negative interactions"
   ]
  },
  {
   "cell_type": "code",
   "execution_count": null,
   "metadata": {},
   "outputs": [],
   "source": [
    "ChEMBL2DrugbankID = {v: k for k, v in DrugbankID2ChEMBL.items()}\n",
    "DrugBankID2ChemicalID = {v: k for k, v in ChemicalID2DrugBankID.items()}"
   ]
  },
  {
   "cell_type": "code",
   "execution_count": null,
   "metadata": {},
   "outputs": [],
   "source": [
    "# ChEMBL_id to Entrez_id (from uniprot)\n",
    "with open('ChEMBL2Entrez.pkl', 'rb') as f:\n",
    "    ChEMBL2Entrez = pickle.load(f)\n",
    "ChEMBL2Entrez"
   ]
  },
  {
   "cell_type": "code",
   "execution_count": null,
   "metadata": {},
   "outputs": [],
   "source": [
    "ChEMBL_inter = pd.read_csv('DTI_known_ChEMBLid_originalID.csv', index_col=0)\n",
    "ChEMBL_inter.columns = ['Chembl','T_Chembl','weight']\n",
    "negative_inter = ChEMBL_inter[ChEMBL_inter['weight']==0]\n",
    "negative_inter['from'] = negative_inter['Chembl'].map(ChEMBL2DrugbankID).map(DrugBankID2ChemicalID)\n",
    "negative_inter['to'] = negative_inter ['T_Chembl'].map(ChEMBL2Entrez)\n",
    "negative_inter['smiles'] = negative_inter['Chembl'].map(ChEMBL2Smiles)\n",
    "negative_inter = negative_inter.dropna().drop(columns= ['T_Chembl','weight'])\n",
    "negative_inter ['Type_Interaction'] = 'neg_DTI'\n",
    "negative_inter ['S1'] = 'negative_DTI'\n",
    "negative_inter = negative_inter[negative_inter['Chembl'].isin(list_phase4)]\n",
    "negative_inter = negative_inter[negative_inter['to'].isin(list(target_seq['Target']))]\n",
    "negative_inter.to_csv('negative_int.csv')\n",
    "negative_inter"
   ]
  },
  {
   "cell_type": "code",
   "execution_count": null,
   "metadata": {},
   "outputs": [],
   "source": [
    "print(f'Number of negative interactions: {len(negative_inter)}')"
   ]
  },
  {
   "cell_type": "code",
   "execution_count": null,
   "metadata": {},
   "outputs": [],
   "source": [
    "final_P_N_DTI = selected_DTI_final.append(negative_inter, sort=False)\n",
    "final_P_N_DTI"
   ]
  },
  {
   "cell_type": "markdown",
   "metadata": {},
   "source": [
    "## 2- Diseases-Drug\n",
    "- http://ctdbase.org/downloads/#cd"
   ]
  },
  {
   "cell_type": "code",
   "execution_count": null,
   "metadata": {},
   "outputs": [],
   "source": [
    "DisD_tmp = pd.read_csv(\"CTD_chemicals_diseases.csv\").sort_values(by=['DiseaseID'])\n",
    "DisD = DisD_tmp[DisD_tmp['DirectEvidence']=='therapeutic']\n",
    "DisD['Cheml_D'] = DisD['ChemicalID'].map(ChemicalID2DrugBankID).map(DrugbankID2ChEMBL)\n",
    "DisD = DisD.dropna(subset=['Cheml_D'])\n",
    "DisD['smile'] = DisD['Cheml_D'].map(ChEMBL2Smiles)\n",
    "DisD = DisD.dropna(subset=['smile'])\n",
    "DisD = DisD[DisD['Cheml_D'].isin(list_phase4)]\n",
    "DisD"
   ]
  },
  {
   "cell_type": "code",
   "execution_count": null,
   "metadata": {},
   "outputs": [],
   "source": [
    "DisD['DiseaseName'].value_counts()"
   ]
  },
  {
   "cell_type": "markdown",
   "metadata": {},
   "source": [
    "## 3- Diseases-Target \n",
    "- http://ctdbase.org/downloads/#gd"
   ]
  },
  {
   "cell_type": "code",
   "execution_count": null,
   "metadata": {},
   "outputs": [],
   "source": [
    "DisT_tmp = pd.read_pickle('CTD_genes_diseases.pkl')\n",
    "DisT_first_col = list(DisT_tmp)\n",
    "DisT_tmp.columns = ['GeneSymbol','GeneID', 'DiseaseName','DiseaseID','DirectEvidence', 'InferenceChemicalName','InferenceScore','OmimIDs','PubMedIDs']\n",
    "\n",
    "DisT_tmp.head()"
   ]
  },
  {
   "cell_type": "code",
   "execution_count": null,
   "metadata": {},
   "outputs": [],
   "source": [
    "DisT_tmp['DirectEvidence'].value_counts()"
   ]
  },
  {
   "cell_type": "code",
   "execution_count": null,
   "metadata": {},
   "outputs": [],
   "source": [
    "DisT_therapeutic = DisT_tmp[DisT_tmp['DirectEvidence'].isin(['therapeutic','marker/mechanism|therapeutic'])]\n",
    "len_dis_therapeutic = len(set(DisT_therapeutic['DiseaseID']))\n",
    "print(f'Num of therapeutic diseases: {len_dis_therapeutic}')\n",
    "\n",
    "\n",
    "DisT_therapeutic"
   ]
  },
  {
   "cell_type": "code",
   "execution_count": null,
   "metadata": {},
   "outputs": [],
   "source": [
    "len_dis = len(set(DisT_tmp['DiseaseID']))\n",
    "print(f'Total Num of diseases: {len_dis}')"
   ]
  },
  {
   "cell_type": "code",
   "execution_count": null,
   "metadata": {},
   "outputs": [],
   "source": [
    "# Removing the last two digits of MESH-ID\n",
    "DisT_tmp ['DiseaseID_new'] = DisT_tmp['DiseaseID'].map(lambda x: str(x)[:-2])\n",
    "\n",
    "len_dis_new = len(set(DisT_tmp['DiseaseID_new']))\n",
    "print(f'Num of diseases after removing 2 last digits: {len_dis_new}')"
   ]
  },
  {
   "cell_type": "code",
   "execution_count": null,
   "metadata": {},
   "outputs": [],
   "source": [
    "# Removing the last two digits of MESH-ID\n",
    "DisT_therapeutic ['DiseaseID_new'] = DisT_therapeutic['DiseaseID'].map(lambda x: str(x)[:-2])\n",
    "\n",
    "len_dis_therapeutic = len(set(DisT_therapeutic['DiseaseID_new']))\n",
    "print(f'Num of therapeutic diseases after removing 2 last digits: {len_dis_therapeutic}')"
   ]
  },
  {
   "cell_type": "markdown",
   "metadata": {},
   "source": [
    "#### Therapeutic diseases"
   ]
  },
  {
   "cell_type": "code",
   "execution_count": null,
   "metadata": {},
   "outputs": [],
   "source": [
    "DisT = DisT_therapeutic[['GeneID','DiseaseID', 'DiseaseName']]\n",
    "\n",
    "# Selecting targets that we have in DTI\n",
    "DisT = DisT[DisT['GeneID'].isin(final_P_N_DTI['to'])]\n",
    "DisT"
   ]
  },
  {
   "cell_type": "code",
   "execution_count": null,
   "metadata": {},
   "outputs": [],
   "source": [
    "#DisT.loc [86119326] = ['100174880','MESH:D000014','Abnormalities, Drug-Induced']\n",
    "DisT = DisT.sort_values(by=['DiseaseID'])"
   ]
  },
  {
   "cell_type": "code",
   "execution_count": null,
   "metadata": {},
   "outputs": [],
   "source": [
    "# selecting targets that we have sequnce\n",
    "DisT = DisT[DisT['GeneID'].isin(target_seq['Target'])]"
   ]
  },
  {
   "cell_type": "code",
   "execution_count": null,
   "metadata": {
    "scrolled": false
   },
   "outputs": [],
   "source": [
    "DisT['DiseaseName'].value_counts()"
   ]
  },
  {
   "cell_type": "markdown",
   "metadata": {},
   "source": [
    "### Summary of drug/targets/diseases in 3 datasets"
   ]
  },
  {
   "cell_type": "code",
   "execution_count": null,
   "metadata": {},
   "outputs": [],
   "source": [
    "num_DisT_T = len(set(DisT['GeneID']))\n",
    "print(f'Number of target in DisT: {num_DisT_T}')\n",
    "\n",
    "num_DisT_dis = len(set(DisT['DiseaseID']))\n",
    "print(f'Number of diseases in DisT: {num_DisT_dis}')\n",
    "\n",
    "print(f'Number of interactions in DisT: {len(DisT)}')"
   ]
  },
  {
   "cell_type": "code",
   "execution_count": null,
   "metadata": {},
   "outputs": [],
   "source": [
    "num_DisD_D = len(set(DisD['ChemicalID']))\n",
    "print(f'Number of drug in DisD: {num_DisD_D}')\n",
    "\n",
    "num_DisD_dis = len(set(DisD['DiseaseID']))\n",
    "print(f'Number of diseases in DisD: {num_DisD_dis}')\n",
    "\n",
    "print(f'Number of interactions in DisD: {len(DisD)}')"
   ]
  },
  {
   "cell_type": "code",
   "execution_count": null,
   "metadata": {},
   "outputs": [],
   "source": [
    "num_T = len(set(final_P_N_DTI['to']))\n",
    "print(f'Number of target in DTI: {num_T}')\n",
    "\n",
    "num_D = len(set(final_P_N_DTI['from']))\n",
    "print(f'Number of drug in DTI: {num_D}')\n",
    "\n",
    "print(f'Number of interactions in DTI: {len(final_P_N_DTI)}')"
   ]
  },
  {
   "cell_type": "markdown",
   "metadata": {},
   "source": [
    "### List of drug/target/disease"
   ]
  },
  {
   "cell_type": "code",
   "execution_count": null,
   "metadata": {},
   "outputs": [],
   "source": [
    "list_drugs = set(list(final_P_N_DTI['from'])+list(DisD['ChemicalID']))\n",
    "\n",
    "# save info of selected drugs for DDS\n",
    "info_drugs = final_P_N_DTI[['smiles','Chembl']].rename(columns={'Chembl':1,'smiles':0}).append(DisD[['smile', 'Cheml_D',]].rename(columns={'Cheml_D':1,'smile':0})).drop_duplicates(subset=1, keep=\"first\")\n",
    "info_drugs.to_csv('temp_SMILES_main.txt', sep='\\t', index=False, header=False)\n",
    "\n",
    "print(f'Number of drugs for similarity: {len(list_drugs)}')"
   ]
  },
  {
   "cell_type": "code",
   "execution_count": null,
   "metadata": {},
   "outputs": [],
   "source": [
    "list_targets = set(list(final_P_N_DTI['to'])+list(DisT['GeneID']))\n",
    "\n",
    "# save info of selected targets for PPS\n",
    "info_targets = target_seq[target_seq['Target'].isin(list_targets)].drop_duplicates(subset='Target', keep=\"first\")\n",
    "info_targets.to_csv(\"selected_uniport_seq.csv\")\n",
    "\n",
    "print(f'Number of targets for similarity: {len(list_targets)}')"
   ]
  },
  {
   "cell_type": "code",
   "execution_count": null,
   "metadata": {},
   "outputs": [],
   "source": [
    "list_dis = set(list (DisD['DiseaseID'])+list(DisT['DiseaseID']))\n",
    "print(f'Number of diseases: {len(list_dis)}')"
   ]
  },
  {
   "cell_type": "markdown",
   "metadata": {},
   "source": [
    "## 4- Drug-Drug similarities\n"
   ]
  },
  {
   "cell_type": "code",
   "execution_count": null,
   "metadata": {},
   "outputs": [],
   "source": [
    "with open(f'{MAINDIR}/DDS.pkl', 'rb') as f:\n",
    "        DDS = pickle.load(f)\n",
    "DDS.head()"
   ]
  },
  {
   "cell_type": "markdown",
   "metadata": {},
   "source": [
    "## 5- Protein-Protein similarities"
   ]
  },
  {
   "cell_type": "code",
   "execution_count": null,
   "metadata": {},
   "outputs": [],
   "source": [
    "PPS_matrix = pd.read_csv(\"PPS(seq).csv\", index_col=0)"
   ]
  },
  {
   "cell_type": "code",
   "execution_count": null,
   "metadata": {},
   "outputs": [],
   "source": [
    "PPS = PPS_matrix.copy()\n",
    "\n",
    "# set diagonal as NAN (similarity of drugs with itself)\n",
    "m,n = PPS.shape\n",
    "PPS[:] = np.where(np.arange(m)[:,None] >= np.arange(n),np.nan,PPS)\n",
    "\n",
    "# stack() gives all links similarities\n",
    "PPS = PPS.stack().reset_index().rename(columns={'level_0':'to', 'level_1':'from', 0:'weight'}) \n",
    "PPS"
   ]
  },
  {
   "cell_type": "markdown",
   "metadata": {},
   "source": [
    "## DDS and PPS Normalization"
   ]
  },
  {
   "cell_type": "code",
   "execution_count": null,
   "metadata": {},
   "outputs": [],
   "source": [
    "def scale_data(df):\n",
    "    scaler = MinMaxScaler(feature_range=(0, 1))\n",
    "    data = df[['weight']]\n",
    "    scaler.fit(data)\n",
    "    data = scaler.transform(data)\n",
    "    df['weight'] = data\n",
    "    return df"
   ]
  },
  {
   "cell_type": "code",
   "execution_count": null,
   "metadata": {},
   "outputs": [],
   "source": [
    "def plot_similarities (DDS, PPS):\n",
    "    DDS_boxplot = DDS[['weight']]\n",
    "    DDS_boxplot['type'] = 'DDS'\n",
    "\n",
    "    PPS_boxplot = PPS[['weight']]\n",
    "    PPS_boxplot['type'] = 'PPS'\n",
    "\n",
    "    df_boxplot = DDS_boxplot.append(PPS_boxplot)\n",
    "\n",
    "    boxplot = df_boxplot.boxplot(by='type',fontsize=15, figsize=(6,7))"
   ]
  },
  {
   "cell_type": "code",
   "execution_count": null,
   "metadata": {},
   "outputs": [],
   "source": [
    "plot_similarities (DDS, PPS)\n",
    "#DDS_nor = scale_data(DDS)\n",
    "#PPS_nor = scale_data(PPS)"
   ]
  },
  {
   "cell_type": "code",
   "execution_count": null,
   "metadata": {},
   "outputs": [],
   "source": [
    "##### TO DO #####\n",
    "# unique id for DDS and PPS"
   ]
  },
  {
   "cell_type": "code",
   "execution_count": null,
   "metadata": {},
   "outputs": [],
   "source": [
    "# clusters PPS network\n",
    "edgeList_pps = PPS.values.tolist()\n",
    "G = networkx.Graph()\n",
    "weights = []\n",
    "\n",
    "for i in range(len(edgeList_pps)):\n",
    "    G.add_edge(edgeList_pps[i][0], edgeList_pps[i][1], weight=edgeList_pps[i][2])\n",
    "    weights.append(edgeList_pps[i][2])\n",
    "    \n",
    "A = networkx.adjacency_matrix(G).A\n",
    "PPS_adj = A.copy()\n",
    "\n",
    "louvain = Louvain()\n",
    "labels = louvain.fit_transform(PPS_adj)\n",
    "\n",
    "labels_unique, counts = np.unique(labels, return_counts=True)\n",
    "\n",
    "PPS_cluster_label= pd.DataFrame({'target':list(G.nodes()), 'label':labels})\n",
    "PPS_cluster_label['label']= PPS_cluster_label['label'].astype(str)\n",
    "print(labels_unique, counts)"
   ]
  },
  {
   "cell_type": "code",
   "execution_count": null,
   "metadata": {},
   "outputs": [],
   "source": [
    "target2cluster = dict(zip(PPS_cluster_label.target, PPS_cluster_label.label))"
   ]
  },
  {
   "cell_type": "code",
   "execution_count": null,
   "metadata": {},
   "outputs": [],
   "source": [
    "color_dict = {k: v for k, v in enumerate(['#58ACFA','#FF1493', 'yellow','orange', '#00CED1','#5F9EA0','#006400','#96bf65','#fcc808','#7b2b48',\n",
    " '#e96957','#e06000','#173679','#d2dd49','#684a6b','#096eb2','#ce482a', 'red', 'lime', 'lightslategray',\n",
    "                                      'olive', 'rosybrown', 'sienna', 'darkmagenta','midnightblue','maroon',\n",
    "                                      'lightcoral','gold','sandybrown','tomato','lawngreen','lightgreen','darkorchid',\n",
    "                                      'lightskyblue','darkgreen'])}\n",
    "color_dict= {str(key): value for key, value in color_dict.items()}\n"
   ]
  },
  {
   "cell_type": "code",
   "execution_count": null,
   "metadata": {},
   "outputs": [],
   "source": [
    "weight = [element * 1000 for element in weights]\n",
    "weight = [40 if i>=40 else i for i in weight]"
   ]
  },
  {
   "cell_type": "code",
   "execution_count": null,
   "metadata": {},
   "outputs": [],
   "source": [
    "#partition = community_louvain.best_partition(G)\n",
    "pos = nx.spring_layout(G, scale=2)\n",
    "\n",
    "plt.figure(figsize=(10,6))\n",
    "nx.draw(G, pos, node_color=[color_dict[v] for v in target2cluster.values()], edge_color=weight, node_size=[20]*len(G.nodes()))"
   ]
  },
  {
   "cell_type": "markdown",
   "metadata": {},
   "source": [
    "## Create edgelist"
   ]
  },
  {
   "cell_type": "code",
   "execution_count": null,
   "metadata": {},
   "outputs": [],
   "source": [
    "PPS['Type_Interaction']='PPS'\n",
    "PPS['to']= PPS['to'].astype(int)\n",
    "PPS['from']= PPS['from'].astype(int)\n",
    "PPS"
   ]
  },
  {
   "cell_type": "code",
   "execution_count": null,
   "metadata": {},
   "outputs": [],
   "source": [
    "DDS['Type_Interaction']='DDS'\n",
    "DDS['to']= DDS['to'].astype(int)\n",
    "DDS['from']= DDS['from'].astype(int)\n",
    "DDS"
   ]
  },
  {
   "cell_type": "code",
   "execution_count": null,
   "metadata": {},
   "outputs": [],
   "source": [
    "DisD_final = DisD[['Cheml_D','DiseaseID']].rename(columns={'Cheml_D':'from','DiseaseID':'to'})\n",
    "DisD_final['from'] = DisD_final['from'].str.replace('CHEMBL', '').astype(int)\n",
    "DisD_final['Type_Interaction'] = 'DisD'\n",
    "DisD_final"
   ]
  },
  {
   "cell_type": "code",
   "execution_count": null,
   "metadata": {},
   "outputs": [],
   "source": [
    "DisT_final = DisT[['GeneID','DiseaseID']].rename(columns={'DiseaseID':'from','GeneID':'to'})\n",
    "DisT_final['Type_Interaction']= 'DisT'\n",
    "DisT_final"
   ]
  },
  {
   "cell_type": "code",
   "execution_count": null,
   "metadata": {},
   "outputs": [],
   "source": [
    "Chembl2CTD = pd.Series(selected_DTI_final['from'].values, index=selected_DTI_final['Chembl']).to_dict()\n",
    "selected_DTI_1 = final_P_N_DTI.copy()\n",
    "selected_DTI_1['from'] = selected_DTI_1['Chembl'].str.replace('CHEMBL', '').astype(int)\n",
    "selected_DTI_1['to'] = selected_DTI_1['to'].astype(int)\n",
    "selected_DTI_1 = selected_DTI_1.drop(columns= ['Chembl','smiles'])"
   ]
  },
  {
   "cell_type": "code",
   "execution_count": null,
   "metadata": {},
   "outputs": [],
   "source": [
    "selected_DTI_1"
   ]
  },
  {
   "cell_type": "code",
   "execution_count": null,
   "metadata": {},
   "outputs": [],
   "source": [
    "# unique id for drug/target/disease\n",
    "target_list = list(set(list(PPS['to'])+ list(PPS['from'])+list(DisT_final['to'])+ list(selected_DTI_1['to'])))\n",
    "max_target = max(target_list)\n",
    "\n",
    "drug_list = list(set(list(DDS['to'])+ list(DDS['from'])+list(DisD_final['from'])+ list(selected_DTI_1['from'])))\n",
    "drugId2numId_nod2vec = {k: v+max_target+1 for v, k in enumerate(sorted(drug_list))}\n",
    "\n",
    "DDS['to']= DDS['to'].map(drugId2numId_nod2vec)\n",
    "DDS['from']= DDS['from'].map(drugId2numId_nod2vec)\n",
    "DisD_final['from'] = DisD_final['from'].map(drugId2numId_nod2vec)\n",
    "selected_DTI_1['from'] = selected_DTI_1['from'].map(drugId2numId_nod2vec)\n",
    "\n",
    "max_drug = max(drugId2numId_nod2vec.values())\n",
    "disease_list = list(set (list(DisT_final['from']) + list(DisD_final['to'])))\n"
   ]
  },
  {
   "cell_type": "code",
   "execution_count": null,
   "metadata": {},
   "outputs": [],
   "source": [
    "diseaseId2numId_nod2vec = {k: v+max_drug+1 for v, k in enumerate(sorted(disease_list))}\n",
    "DisT_final['from'] = DisT_final['from'].map(diseaseId2numId_nod2vec)\n",
    "DisT_final['weight'] = 1\n",
    "DisD_final['to'] = DisD_final['to'].map(diseaseId2numId_nod2vec)\n",
    "DisD_final['weight'] = 1"
   ]
  },
  {
   "cell_type": "code",
   "execution_count": null,
   "metadata": {},
   "outputs": [],
   "source": [
    "with open('DisD.pkl', 'wb') as handle:\n",
    "    pickle.dump(DisD_final, handle)\n",
    "    \n",
    "with open('DisT.pkl', 'wb') as handle:\n",
    "    pickle.dump(DisT_final, handle)\n",
    "\n",
    "with open('DTI.pkl', 'wb') as handle:\n",
    "    pickle.dump(selected_DTI_1, handle) \n",
    "    \n",
    "with open('PPS.pkl', 'wb') as handle:\n",
    "    pickle.dump(PPS, handle) \n",
    "\n",
    "with open('DDS.pkl', 'wb') as handle:\n",
    "    pickle.dump(DDS, handle) "
   ]
  },
  {
   "cell_type": "code",
   "execution_count": null,
   "metadata": {},
   "outputs": [],
   "source": [
    "all_nod2vec = ((DisD_final.append(DisT_final)).append(PPS)).append(DDS)\n",
    "all_nod2vec= all_nod2vec[all_nod2vec['weight']!=0]\n",
    "all_nod2vec['Type_Interaction'].value_counts()"
   ]
  },
  {
   "cell_type": "code",
   "execution_count": null,
   "metadata": {},
   "outputs": [],
   "source": [
    "avrg_pps = all_nod2vec[all_nod2vec['Type_Interaction']=='PPS']['weight'].mean()\n",
    "PPS_new = PPS[PPS['weight']>avrg_pps]\n",
    "\n",
    "all_nod2vec_new = ((DisD_final.append(DisT_final)).append(PPS_new)).append(DDS)\n",
    "all_nod2vec_new = all_nod2vec_new[all_nod2vec_new['weight']!=0]\n",
    "all_nod2vec_new['Type_Interaction'].value_counts()"
   ]
  },
  {
   "cell_type": "code",
   "execution_count": null,
   "metadata": {},
   "outputs": [],
   "source": [
    "with open('all_nod2vec_new.pkl', 'wb') as handle:\n",
    "    pickle.dump(all_nod2vec_new, handle) "
   ]
  },
  {
   "cell_type": "code",
   "execution_count": null,
   "metadata": {},
   "outputs": [],
   "source": [
    "# dic of disese/drug/proteins\n",
    "with open('drugId2numId_nod2vec.pkl', 'wb') as handle:\n",
    "    pickle.dump(drugId2numId_nod2vec, handle) \n",
    "    \n",
    "with open('diseaseId2numId_nod2vec.pkl', 'wb') as handle:\n",
    "    pickle.dump(diseaseId2numId_nod2vec, handle) \n",
    "    \n",
    "target2name= pd.Series('target', index=target_list).to_dict()\n",
    "\n",
    "with open('target2name.pkl', 'wb') as handle:\n",
    "    pickle.dump(target2name, handle) \n",
    "    "
   ]
  }
 ],
 "metadata": {
  "kernelspec": {
   "display_name": "Python 3 (ipykernel)",
   "language": "python",
   "name": "python3"
  },
  "language_info": {
   "codemirror_mode": {
    "name": "ipython",
    "version": 3
   },
   "file_extension": ".py",
   "mimetype": "text/x-python",
   "name": "python",
   "nbconvert_exporter": "python",
   "pygments_lexer": "ipython3",
   "version": "3.10.2"
  },
  "toc": {
   "base_numbering": 1,
   "nav_menu": {},
   "number_sections": true,
   "sideBar": true,
   "skip_h1_title": false,
   "title_cell": "Table of Contents",
   "title_sidebar": "Contents",
   "toc_cell": false,
   "toc_position": {},
   "toc_section_display": true,
   "toc_window_display": false
  }
 },
 "nbformat": 4,
 "nbformat_minor": 4
}
